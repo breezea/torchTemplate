{
 "cells": [
  {
   "attachments": {},
   "cell_type": "markdown",
   "metadata": {},
   "source": [
    "### 引入相关模块"
   ]
  },
  {
   "cell_type": "code",
   "execution_count": 46,
   "metadata": {},
   "outputs": [],
   "source": [
    "import matplotlib.pyplot as plt\n",
    "import numpy as np\n",
    "\n",
    "import torch\n",
    "import torch.nn as nn\n",
    "import torch.nn.functional as F\n",
    "\n",
    "from torch.utils.data import DataLoader\n",
    "from torchvision import datasets\n",
    "from torchvision import transforms"
   ]
  },
  {
   "attachments": {},
   "cell_type": "markdown",
   "metadata": {},
   "source": [
    "### 定义超参数"
   ]
  },
  {
   "cell_type": "code",
   "execution_count": 64,
   "metadata": {},
   "outputs": [],
   "source": [
    "EPOCHS = 10                 # 迭代次数\n",
    "BATCH_SIZE = 64             # batch_size\n",
    "LEARNING_RATE = 0.001       # 学习率\n",
    "ACC_FREQUENCE = 300         # 多少个batch打印一次输出\n",
    "SAVE_PATH = './output/'\n",
    "# 训练设备\n",
    "DEVICE = torch.device(\"cuda:0\" if torch.cuda.is_available() else \"cpu\")"
   ]
  },
  {
   "attachments": {},
   "cell_type": "markdown",
   "metadata": {},
   "source": [
    "### 搭建模型"
   ]
  },
  {
   "cell_type": "code",
   "execution_count": 54,
   "metadata": {},
   "outputs": [],
   "source": [
    "class DemoModel(torch.nn.Module):\n",
    "    def __init__(self, num_classes, input_channel=3,):\n",
    "        super(DemoModel, self).__init__()\n",
    "        self.conv1 = torch.nn.Sequential(\n",
    "            torch.nn.Conv2d( input_channel, 10, kernel_size=3, padding=1),\n",
    "            torch.nn.ReLU(),\n",
    "            torch.nn.MaxPool2d(kernel_size=2),\n",
    "        )\n",
    "        self.conv2 = torch.nn.Sequential(\n",
    "                torch.nn.Conv2d( 10, 20, kernel_size=3, padding=1),\n",
    "                torch.nn.ReLU(),\n",
    "                torch.nn.MaxPool2d(kernel_size=2),\n",
    "        )\n",
    "        self.fc = torch.nn.Sequential(\n",
    "            torch.nn.Linear(1280, 50),\n",
    "            torch.nn.Linear(50,num_classes)\n",
    "        )\n",
    "\n",
    "    def forward(self, x):\n",
    "        out = self.conv1(x)\n",
    "        out = self.conv2(out)\n",
    "        out = out.view(out.size(0), -1)\n",
    "        out = self.fc(out)\n",
    "        return out\n"
   ]
  },
  {
   "attachments": {},
   "cell_type": "markdown",
   "metadata": {},
   "source": [
    "### 数据预处理"
   ]
  },
  {
   "cell_type": "code",
   "execution_count": 49,
   "metadata": {},
   "outputs": [
    {
     "name": "stdout",
     "output_type": "stream",
     "text": [
      "Files already downloaded and verified\n",
      "Files already downloaded and verified\n"
     ]
    }
   ],
   "source": [
    "data_hub = '../data_hub/'\n",
    "data_transform = {\n",
    "    \"train\": transforms.Compose([\n",
    "            # transforms.RandomResizedCrop(224),\n",
    "            # transforms.RandomHorizontalFlip(),\n",
    "            transforms.ToTensor(),\n",
    "            # transforms.Normalize((0.5, 0.5, 0.5), (0.5, 0.5, 0.5))\n",
    "            transforms.Normalize((0.1307,), (0.3081,))\n",
    "        ]),\n",
    "    \"val\": transforms.Compose([\n",
    "            # transforms.Resize((224, 224)),\n",
    "            transforms.ToTensor(),\n",
    "            transforms.Normalize((0.1307,), (0.3081,))\n",
    "            # transforms.Normalize((0.5, 0.5, 0.5), (0.5, 0.5, 0.5))\n",
    "        ])}\n",
    "\n",
    "train_dataset = datasets.CIFAR10(root=data_hub, train=True, download=True, transform=data_transform[\"train\"])\n",
    "validate_dataset = datasets.CIFAR10(root=data_hub, train=False, download=True, transform=data_transform[\"val\"])\n",
    "\n",
    "train_loader = DataLoader(train_dataset, batch_size=BATCH_SIZE, shuffle=True)\n",
    "validate_loader = DataLoader(train_dataset, batch_size=BATCH_SIZE, shuffle=False)\n"
   ]
  },
  {
   "attachments": {},
   "cell_type": "markdown",
   "metadata": {},
   "source": [
    "### 查看训练数据"
   ]
  },
  {
   "cell_type": "code",
   "execution_count": 50,
   "metadata": {},
   "outputs": [
    {
     "name": "stdout",
     "output_type": "stream",
     "text": [
      "torch.Size([64, 3, 32, 32]) torch.Size([64])\n"
     ]
    }
   ],
   "source": [
    "\n",
    "for item in train_loader:\n",
    "    x,y = item\n",
    "    print(x.shape, y.shape) \n",
    "    break"
   ]
  },
  {
   "attachments": {},
   "cell_type": "markdown",
   "metadata": {},
   "source": [
    "### 定义更新规则"
   ]
  },
  {
   "cell_type": "code",
   "execution_count": 51,
   "metadata": {},
   "outputs": [],
   "source": [
    "def useBackward(model, lr):\n",
    "    criterion = torch.nn.CrossEntropyLoss()\n",
    "    optimizer = torch.optim.Adam(model.parameters(), lr = lr)\n",
    "    return criterion, optimizer"
   ]
  },
  {
   "attachments": {},
   "cell_type": "markdown",
   "metadata": {},
   "source": [
    "### 开始训练"
   ]
  },
  {
   "cell_type": "code",
   "execution_count": 62,
   "metadata": {},
   "outputs": [
    {
     "name": "stdout",
     "output_type": "stream",
     "text": [
      "train loss: 100%[**************************************************->]1.374\n",
      "epoch[ 1 ]: loss: 1.516 , acc: 45.86 %\n",
      "train loss: 100%[**************************************************->]0.854\n",
      "epoch[ 2 ]: loss: 1.220 , acc: 57.23 %\n",
      "train loss: 100%[**************************************************->]0.912\n",
      "epoch[ 3 ]: loss: 1.097 , acc: 61.89 %\n"
     ]
    }
   ],
   "source": [
    "def train(model, epochs):\n",
    "    running_loss = 0.0\n",
    "    running_total = 0\n",
    "    running_correct = 0\n",
    "    # 使用更新方法\n",
    "    criterion, optimizer = useBackward(model, LEARNING_RATE)\n",
    "    for epoch in range(epochs):\n",
    "        for batch_idx, data in enumerate(train_loader, 0):\n",
    "            inputs, target = data\n",
    "            inputs, target = inputs.to(DEVICE), target.to(DEVICE)\n",
    "            optimizer.zero_grad()\n",
    "\n",
    "            outputs = model(inputs)\n",
    "            loss = criterion(outputs, target)\n",
    "            loss.backward()\n",
    "            optimizer.step()\n",
    "\n",
    "            # 把运行中的loss累加起来\n",
    "            running_loss += loss.item()\n",
    "            # 计算此时的准去略acc\n",
    "            _, predicted = torch.max(outputs.data, dim=1)\n",
    "            running_total += inputs.shape[0]\n",
    "            running_correct += (predicted == target).sum().item()\n",
    "            # 训练进度\n",
    "            rate = ( batch_idx + 1) / len(train_loader)\n",
    "            a = \"*\" * int( rate * 50)\n",
    "            b = \".\" * int((1-rate) * 50)\n",
    "            print(\"\\rtrain loss: {:^3.0f}%[{}->{}]{:.3f}\".format(int(rate * 100), a, b, loss), end=\"\")\n",
    "        # 每个epoch输出一次结果\n",
    "        # if batch_idx % ACC_FREQUENCE == (ACC_FREQUENCE-1):  # 没FRE_QUEncE次出一个平均损失,和准确率\n",
    "        print()\n",
    "        print('epoch[%d]: loss: %.3f , acc: %.2f %%'\n",
    "                % (epoch + 1,  running_loss / len(train_loader), 100 * running_correct / running_total))\n",
    "        running_loss = 0.0  # 这小批的loss清零\n",
    "        running_total = 0\n",
    "        running_correct = 0  # 这小批的acc清零\n",
    "model = DemoModel(10).to(DEVICE)\n",
    "train(model, 3)"
   ]
  },
  {
   "attachments": {},
   "cell_type": "markdown",
   "metadata": {},
   "source": [
    "### 模型保存"
   ]
  },
  {
   "cell_type": "code",
   "execution_count": 65,
   "metadata": {},
   "outputs": [],
   "source": [
    "# 训练完了保存模型\n",
    "def saveModel(model, file_name='model.pth'):\n",
    "    with open(SAVE_PATH+file_name, 'wb') as f:\n",
    "        torch.save(model.state_dict(), f)\n",
    "saveModel(model)"
   ]
  },
  {
   "attachments": {},
   "cell_type": "markdown",
   "metadata": {},
   "source": [
    "### 数据可视化"
   ]
  },
  {
   "cell_type": "code",
   "execution_count": null,
   "metadata": {},
   "outputs": [],
   "source": []
  },
  {
   "attachments": {},
   "cell_type": "markdown",
   "metadata": {},
   "source": [
    "### 模型评估"
   ]
  },
  {
   "cell_type": "code",
   "execution_count": null,
   "metadata": {},
   "outputs": [],
   "source": []
  }
 ],
 "metadata": {
  "kernelspec": {
   "display_name": "pytorch",
   "language": "python",
   "name": "python3"
  },
  "language_info": {
   "codemirror_mode": {
    "name": "ipython",
    "version": 3
   },
   "file_extension": ".py",
   "mimetype": "text/x-python",
   "name": "python",
   "nbconvert_exporter": "python",
   "pygments_lexer": "ipython3",
   "version": "3.8.12"
  },
  "orig_nbformat": 4,
  "vscode": {
   "interpreter": {
    "hash": "0ff7822346a7eba5f653fb958b3cf569954cc4bb3d216a01aedeb8a9d21f674b"
   }
  }
 },
 "nbformat": 4,
 "nbformat_minor": 2
}
